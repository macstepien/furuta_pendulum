{
 "cells": [
  {
   "cell_type": "code",
   "execution_count": 11,
   "metadata": {},
   "outputs": [],
   "source": [
    "dt = 0.001\n",
    "g = 9.80665\n",
    "\n",
    "m1 = 0.3\n",
    "m2 = 0.075\n",
    "\n",
    "l1 = 0.15\n",
    "l2 = 0.148\n",
    "\n",
    "L1 = 0.278\n",
    "L2 = 0.3\n",
    "\n",
    "J1 = 0.0248\n",
    "J2 = 0.00386\n",
    "\n",
    "J2_hat = J2 + m2 * l2 * l2\n",
    "J0_hat = J1 + m1 * l1 * l1 + m2 * L1 * L1\n",
    "\n",
    "b1 = 0.0001\n",
    "b2 = 0.00028"
   ]
  },
  {
   "cell_type": "code",
   "execution_count": 12,
   "metadata": {},
   "outputs": [
    {
     "name": "stdout",
     "output_type": "stream",
     "text": [
      "3.0308824121205163e-16, 19.032427596226693, -1.000100004999993, 4.346219669781033\n"
     ]
    }
   ],
   "source": [
    "import numpy as np\n",
    "from control import lqr\n",
    "\n",
    "# A = np.array(4,4)\n",
    "\n",
    "denominator = J0_hat * J2_hat - (m2**2.0) * (L1**2.0) * (l2**2.0)\n",
    "\n",
    "A32 = (g * (m2**2.0) * (l2**2.0) * L1) / denominator\n",
    "A33 = (-b1 * J2_hat) / denominator\n",
    "A34 = (-b2 * m2 * l2 * L1) / denominator\n",
    "\n",
    "A42 = (g * m2 * l2 * J0_hat) / denominator\n",
    "A43 = (-b1 * m2 * l2 * L1) / denominator\n",
    "A44 = (-b2 * J0_hat) / denominator\n",
    "\n",
    "B31 = (J2_hat) / denominator\n",
    "B41 = (m2 * L1 * l2) / denominator\n",
    "B32 = (m2 * L1 * l2) / denominator\n",
    "B42 = (J0_hat) / denominator\n",
    "\n",
    "A = np.array([[0, 0, 1, 0], [0, 0, 0, 1], [0, A32, A33, A34], [0, A42, A43, A44]])\n",
    "# B = np.array([[0, 0], [0, 0], [B31, B32], [B41, B42]])\n",
    "B = np.array([[0], [0], [B31], [B41]])\n",
    "\n",
    "\n",
    "theta1_weight = 0.0\n",
    "theta2_weight = 20.0\n",
    "dtheta1_weight = 10.0\n",
    "dtheta2_weight = 10.0\n",
    "u_weight = 10.0\n",
    "\n",
    "Q = np.array(\n",
    "    [\n",
    "        [theta1_weight, 0, 0, 0],\n",
    "        [0, theta2_weight, 0, 0],\n",
    "        [0, 0, dtheta1_weight, 0],\n",
    "        [0, 0, 0, dtheta2_weight],\n",
    "    ]\n",
    ")\n",
    "R = np.array([u_weight])\n",
    "\n",
    "K, S, E = lqr(A, B, Q, R)\n",
    "print(f\"{K[0,0]}, {K[0,1]}, {K[0,2]}, {K[0,3]}\")\n"
   ]
  }
 ],
 "metadata": {
  "kernelspec": {
   "display_name": "Python 3",
   "language": "python",
   "name": "python3"
  },
  "language_info": {
   "codemirror_mode": {
    "name": "ipython",
    "version": 3
   },
   "file_extension": ".py",
   "mimetype": "text/x-python",
   "name": "python",
   "nbconvert_exporter": "python",
   "pygments_lexer": "ipython3",
   "version": "3.10.6"
  },
  "orig_nbformat": 4
 },
 "nbformat": 4,
 "nbformat_minor": 2
}
