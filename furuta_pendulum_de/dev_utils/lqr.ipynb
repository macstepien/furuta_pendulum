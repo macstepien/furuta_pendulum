{
    "cells": [
        {
            "attachments": {},
            "cell_type": "markdown",
            "metadata": {},
            "source": [
                "## Read pendulum parameters"
            ]
        },
        {
            "cell_type": "code",
            "execution_count": 1,
            "metadata": {},
            "outputs": [
                {
                    "name": "stdout",
                    "output_type": "stream",
                    "text": [
                        "{'m1': 0.3, 'm2': 0.075, 'l1': 0.15, 'l2': 0.148, 'L1': 0.278, 'L2': 0.3, 'J1': 0.0248, 'J2': 0.00386, 'b1': 0.0001, 'b2': 0.00028, 'L': 0.005, 'R': 7.8, 'Km': 0.09}\n"
                    ]
                }
            ],
            "source": [
                "import yaml\n",
                "import os\n",
                "from ament_index_python.packages import get_package_share_directory\n",
                "\n",
                "pendulum_params_file = os.path.join(\n",
                "    get_package_share_directory(\"furuta_pendulum_description\"),\n",
                "    \"config\",\n",
                "    \"pendulum_parameters.yaml\",\n",
                ")\n",
                "\n",
                "with open(pendulum_params_file, \"r\") as file:\n",
                "    pendulum_params = yaml.safe_load(file)[\"/**\"][\"ros__parameters\"]\n",
                "\n",
                "print(pendulum_params)"
            ]
        },
        {
            "cell_type": "code",
            "execution_count": 2,
            "metadata": {},
            "outputs": [],
            "source": [
                "g = 9.80665\n",
                "\n",
                "m1 = pendulum_params[\"m1\"]\n",
                "m2 = pendulum_params[\"m2\"]\n",
                "\n",
                "l1 = pendulum_params[\"l1\"]\n",
                "l2 = pendulum_params[\"l2\"]\n",
                "\n",
                "L1 = pendulum_params[\"L1\"]\n",
                "L2 = pendulum_params[\"L2\"]\n",
                "\n",
                "J1 = pendulum_params[\"J1\"]\n",
                "J2 = pendulum_params[\"J2\"]\n",
                "\n",
                "b1 = pendulum_params[\"b1\"]\n",
                "b2 = pendulum_params[\"b2\"]\n",
                "\n",
                "J2_hat = J2 + m2 * l2 * l2\n",
                "J0_hat = J1 + m1 * l1 * l1 + m2 * L1 * L1"
            ]
        },
        {
            "attachments": {},
            "cell_type": "markdown",
            "metadata": {},
            "source": [
                "## LQR"
            ]
        },
        {
            "attachments": {},
            "cell_type": "markdown",
            "metadata": {},
            "source": [
                "### Linearized Furuta pendulum"
            ]
        },
        {
            "cell_type": "code",
            "execution_count": 3,
            "metadata": {},
            "outputs": [
                {
                    "name": "stdout",
                    "output_type": "stream",
                    "text": [
                        "[[ 0.00000000e+00  0.00000000e+00  1.00000000e+00  0.00000000e+00]\n",
                        " [ 0.00000000e+00  0.00000000e+00  0.00000000e+00  1.00000000e+00]\n",
                        " [ 0.00000000e+00  1.71389430e+00 -2.80773642e-03 -4.40857682e-03]\n",
                        " [ 0.00000000e+00  2.07426310e+01 -1.57449172e-03 -5.33553802e-02]] [[ 0.        ]\n",
                        " [ 0.        ]\n",
                        " [28.07736417]\n",
                        " [15.7449172 ]]\n"
                    ]
                }
            ],
            "source": [
                "import numpy as np\n",
                "\n",
                "# Linearized furuta pendulum from\n",
                "# https://www.hindawi.com/journals/jcse/2011/528341/\n",
                "\n",
                "denominator = J0_hat * J2_hat - (m2**2.0) * (L1**2.0) * (l2**2.0)\n",
                "\n",
                "A32 = (g * (m2**2.0) * (l2**2.0) * L1) / denominator\n",
                "A33 = (-b1 * J2_hat) / denominator\n",
                "A34 = (-b2 * m2 * l2 * L1) / denominator\n",
                "\n",
                "A42 = (g * m2 * l2 * J0_hat) / denominator\n",
                "A43 = (-b1 * m2 * l2 * L1) / denominator\n",
                "A44 = (-b2 * J0_hat) / denominator\n",
                "\n",
                "B31 = (J2_hat) / denominator\n",
                "B41 = (m2 * L1 * l2) / denominator\n",
                "B32 = (m2 * L1 * l2) / denominator\n",
                "B42 = (J0_hat) / denominator\n",
                "\n",
                "A = np.array([[0, 0, 1, 0], [0, 0, 0, 1], [0, A32, A33, A34], [0, A42, A43, A44]])\n",
                "B = np.array([[0], [0], [B31], [B41]])\n",
                "# B32 and B42 not used, as I assumed no disturbance (tau2 = 0)\n",
                "\n",
                "print(A, B)"
            ]
        },
        {
            "attachments": {},
            "cell_type": "markdown",
            "metadata": {},
            "source": [
                "### Q and R weights"
            ]
        },
        {
            "cell_type": "code",
            "execution_count": 4,
            "metadata": {},
            "outputs": [],
            "source": [
                "theta1_weight = 0.0\n",
                "theta2_weight = 10.0\n",
                "dtheta1_weight = 1.0\n",
                "dtheta2_weight = 1.0\n",
                "u_weight = 1.0\n",
                "\n",
                "Q = np.array(\n",
                "    [\n",
                "        [theta1_weight, 0, 0, 0],\n",
                "        [0, theta2_weight, 0, 0],\n",
                "        [0, 0, dtheta1_weight, 0],\n",
                "        [0, 0, 0, dtheta2_weight],\n",
                "    ]\n",
                ")\n",
                "R = np.array([u_weight])"
            ]
        },
        {
            "attachments": {},
            "cell_type": "markdown",
            "metadata": {},
            "source": [
                "### Calculate K"
            ]
        },
        {
            "cell_type": "code",
            "execution_count": 5,
            "metadata": {},
            "outputs": [
                {
                    "name": "stdout",
                    "output_type": "stream",
                    "text": [
                        "-3.117213617190637e-15, 19.26952361008958, -1.000100004999993, 4.352080693946377\n"
                    ]
                }
            ],
            "source": [
                "from control import lqr\n",
                "\n",
                "K, S, E = lqr(A, B, Q, R)\n",
                "print(f\"{K[0,0]}, {K[0,1]}, {K[0,2]}, {K[0,3]}\")"
            ]
        },
        {
            "attachments": {},
            "cell_type": "markdown",
            "metadata": {},
            "source": [
                "### Save K"
            ]
        },
        {
            "cell_type": "code",
            "execution_count": 6,
            "metadata": {},
            "outputs": [],
            "source": [
                "import yaml\n",
                "import os\n",
                "from ament_index_python.packages import get_package_share_directory\n",
                "\n",
                "controller_params_file = os.path.join(\n",
                "    get_package_share_directory(\"furuta_pendulum_de\"),\n",
                "    \"config\",\n",
                "    \"lqr_with_swing_up_controller.yaml\",\n",
                ")\n",
                "\n",
                "with open(controller_params_file, \"r\") as file:\n",
                "    controller_params = yaml.safe_load(file)\n",
                "\n",
                "controller_params[\"/**\"][\"ros__parameters\"][\"K\"] = [float(K[0, x]) for x in range(4)]\n",
                "\n",
                "with open(controller_params_file, \"w\") as file:\n",
                "    # default_flow_style=None to get list formatting as [0,1,2] instead of bullet list\n",
                "    yaml.dump(controller_params, file, default_flow_style=None)\n"
            ]
        }
    ],
    "metadata": {
        "kernelspec": {
            "display_name": "Python 3",
            "language": "python",
            "name": "python3"
        },
        "language_info": {
            "codemirror_mode": {
                "name": "ipython",
                "version": 3
            },
            "file_extension": ".py",
            "mimetype": "text/x-python",
            "name": "python",
            "nbconvert_exporter": "python",
            "pygments_lexer": "ipython3",
            "version": "3.10.6"
        },
        "orig_nbformat": 4
    },
    "nbformat": 4,
    "nbformat_minor": 2
}