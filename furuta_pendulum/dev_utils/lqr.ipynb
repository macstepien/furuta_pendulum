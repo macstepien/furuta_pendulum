{
 "cells": [
  {
   "attachments": {},
   "cell_type": "markdown",
   "metadata": {},
   "source": [
    "## Read pendulum parameters"
   ]
  },
  {
   "cell_type": "code",
   "execution_count": 2,
   "metadata": {},
   "outputs": [
    {
     "ename": "PackageNotFoundError",
     "evalue": "\"package 'furuta_pendulum' not found, searching: ['/opt/ros/humble']\"",
     "output_type": "error",
     "traceback": [
      "\u001b[0;31m---------------------------------------------------------------------------\u001b[0m",
      "\u001b[0;31mLookupError\u001b[0m                               Traceback (most recent call last)",
      "File \u001b[0;32m/opt/ros/humble/lib/python3.10/site-packages/ament_index_python/packages.py:58\u001b[0m, in \u001b[0;36mget_package_prefix\u001b[0;34m(package_name)\u001b[0m\n\u001b[1;32m     57\u001b[0m \u001b[39mtry\u001b[39;00m:\n\u001b[0;32m---> 58\u001b[0m     content, package_prefix \u001b[39m=\u001b[39m get_resource(\u001b[39m'\u001b[39;49m\u001b[39mpackages\u001b[39;49m\u001b[39m'\u001b[39;49m, package_name)\n\u001b[1;32m     59\u001b[0m \u001b[39mexcept\u001b[39;00m \u001b[39mLookupError\u001b[39;00m:\n",
      "File \u001b[0;32m/opt/ros/humble/lib/python3.10/site-packages/ament_index_python/resources.py:86\u001b[0m, in \u001b[0;36mget_resource\u001b[0;34m(resource_type, resource_name)\u001b[0m\n\u001b[1;32m     85\u001b[0m         \u001b[39mreturn\u001b[39;00m content, path\n\u001b[0;32m---> 86\u001b[0m \u001b[39mraise\u001b[39;00m \u001b[39mLookupError\u001b[39;00m(\n\u001b[1;32m     87\u001b[0m     \u001b[39m\"\u001b[39m\u001b[39mCould not find the resource \u001b[39m\u001b[39m'\u001b[39m\u001b[39m%s\u001b[39;00m\u001b[39m'\u001b[39m\u001b[39m of type \u001b[39m\u001b[39m'\u001b[39m\u001b[39m%s\u001b[39;00m\u001b[39m'\u001b[39m\u001b[39m\"\u001b[39m \u001b[39m%\u001b[39m (resource_name, resource_type))\n",
      "\u001b[0;31mLookupError\u001b[0m: Could not find the resource 'furuta_pendulum' of type 'packages'",
      "\nDuring handling of the above exception, another exception occurred:\n",
      "\u001b[0;31mPackageNotFoundError\u001b[0m                      Traceback (most recent call last)",
      "Cell \u001b[0;32mIn[2], line 6\u001b[0m\n\u001b[1;32m      2\u001b[0m \u001b[39mimport\u001b[39;00m \u001b[39mos\u001b[39;00m\n\u001b[1;32m      3\u001b[0m \u001b[39mfrom\u001b[39;00m \u001b[39mament_index_python\u001b[39;00m\u001b[39m.\u001b[39;00m\u001b[39mpackages\u001b[39;00m \u001b[39mimport\u001b[39;00m get_package_share_directory\n\u001b[1;32m      5\u001b[0m pendulum_params_file \u001b[39m=\u001b[39m os\u001b[39m.\u001b[39mpath\u001b[39m.\u001b[39mjoin(\n\u001b[0;32m----> 6\u001b[0m     get_package_share_directory(\u001b[39m\"\u001b[39;49m\u001b[39mfuruta_pendulum\u001b[39;49m\u001b[39m\"\u001b[39;49m),\n\u001b[1;32m      7\u001b[0m     \u001b[39m\"\u001b[39m\u001b[39mconfig\u001b[39m\u001b[39m\"\u001b[39m,\n\u001b[1;32m      8\u001b[0m     \u001b[39m\"\u001b[39m\u001b[39mpendulum_parameters.yaml\u001b[39m\u001b[39m\"\u001b[39m,\n\u001b[1;32m      9\u001b[0m )\n\u001b[1;32m     11\u001b[0m \u001b[39mwith\u001b[39;00m \u001b[39mopen\u001b[39m(pendulum_params_file, \u001b[39m\"\u001b[39m\u001b[39mr\u001b[39m\u001b[39m\"\u001b[39m) \u001b[39mas\u001b[39;00m file:\n\u001b[1;32m     12\u001b[0m     pendulum_params \u001b[39m=\u001b[39m yaml\u001b[39m.\u001b[39msafe_load(file)[\u001b[39m\"\u001b[39m\u001b[39m/**\u001b[39m\u001b[39m\"\u001b[39m][\u001b[39m\"\u001b[39m\u001b[39mros__parameters\u001b[39m\u001b[39m\"\u001b[39m]\n",
      "File \u001b[0;32m/opt/ros/humble/lib/python3.10/site-packages/ament_index_python/packages.py:80\u001b[0m, in \u001b[0;36mget_package_share_directory\u001b[0;34m(package_name, print_warning)\u001b[0m\n\u001b[1;32m     65\u001b[0m \u001b[39mdef\u001b[39;00m \u001b[39mget_package_share_directory\u001b[39m(package_name, print_warning\u001b[39m=\u001b[39m\u001b[39mTrue\u001b[39;00m):\n\u001b[1;32m     66\u001b[0m     \u001b[39m\"\"\"\u001b[39;00m\n\u001b[1;32m     67\u001b[0m \u001b[39m    Return the share directory of the given package.\u001b[39;00m\n\u001b[1;32m     68\u001b[0m \n\u001b[0;32m   (...)\u001b[0m\n\u001b[1;32m     78\u001b[0m \u001b[39m    :raises: :exc:`ValueError` if the package name is invalid\u001b[39;00m\n\u001b[1;32m     79\u001b[0m \u001b[39m    \"\"\"\u001b[39;00m\n\u001b[0;32m---> 80\u001b[0m     path \u001b[39m=\u001b[39m os\u001b[39m.\u001b[39mpath\u001b[39m.\u001b[39mjoin(get_package_prefix(package_name), \u001b[39m'\u001b[39m\u001b[39mshare\u001b[39m\u001b[39m'\u001b[39m, package_name)\n\u001b[1;32m     81\u001b[0m     \u001b[39mif\u001b[39;00m print_warning \u001b[39mand\u001b[39;00m \u001b[39mnot\u001b[39;00m os\u001b[39m.\u001b[39mpath\u001b[39m.\u001b[39mexists(path):\n\u001b[1;32m     82\u001b[0m         warnings\u001b[39m.\u001b[39mwarn(\u001b[39mf\u001b[39m\u001b[39m'\u001b[39m\u001b[39mShare directory for \u001b[39m\u001b[39m{\u001b[39;00mpackage_name\u001b[39m}\u001b[39;00m\u001b[39m (\u001b[39m\u001b[39m{\u001b[39;00mpath\u001b[39m}\u001b[39;00m\u001b[39m) does not exist.\u001b[39m\u001b[39m'\u001b[39m, stacklevel\u001b[39m=\u001b[39m\u001b[39m2\u001b[39m)\n",
      "File \u001b[0;32m/opt/ros/humble/lib/python3.10/site-packages/ament_index_python/packages.py:60\u001b[0m, in \u001b[0;36mget_package_prefix\u001b[0;34m(package_name)\u001b[0m\n\u001b[1;32m     58\u001b[0m     content, package_prefix \u001b[39m=\u001b[39m get_resource(\u001b[39m'\u001b[39m\u001b[39mpackages\u001b[39m\u001b[39m'\u001b[39m, package_name)\n\u001b[1;32m     59\u001b[0m \u001b[39mexcept\u001b[39;00m \u001b[39mLookupError\u001b[39;00m:\n\u001b[0;32m---> 60\u001b[0m     \u001b[39mraise\u001b[39;00m PackageNotFoundError(\n\u001b[1;32m     61\u001b[0m         \u001b[39m\"\u001b[39m\u001b[39mpackage \u001b[39m\u001b[39m'\u001b[39m\u001b[39m{}\u001b[39;00m\u001b[39m'\u001b[39m\u001b[39m not found, searching: \u001b[39m\u001b[39m{}\u001b[39;00m\u001b[39m\"\u001b[39m\u001b[39m.\u001b[39mformat(package_name, get_search_paths()))\n\u001b[1;32m     62\u001b[0m \u001b[39mreturn\u001b[39;00m package_prefix\n",
      "\u001b[0;31mPackageNotFoundError\u001b[0m: \"package 'furuta_pendulum' not found, searching: ['/opt/ros/humble']\""
     ]
    }
   ],
   "source": [
    "import yaml\n",
    "import os\n",
    "from ament_index_python.packages import get_package_share_directory\n",
    "\n",
    "pendulum_params_file = os.path.join(\n",
    "    get_package_share_directory(\"furuta_pendulum\"),\n",
    "    \"config\",\n",
    "    \"pendulum_parameters.yaml\",\n",
    ")\n",
    "\n",
    "with open(pendulum_params_file, \"r\") as file:\n",
    "    pendulum_params = yaml.safe_load(file)[\"/**\"][\"ros__parameters\"]\n",
    "\n",
    "print(pendulum_params)"
   ]
  },
  {
   "cell_type": "code",
   "execution_count": null,
   "metadata": {},
   "outputs": [
    {
     "ename": "",
     "evalue": "",
     "output_type": "error",
     "traceback": [
      "\u001b[1;31mThe kernel failed to start due to the missing module 'psutil'. Consider installing this module.\n",
      "\u001b[1;31mClick <a href='https://aka.ms/kernelFailuresMissingModule'>here</a> for more info."
     ]
    }
   ],
   "source": [
    "g = 9.80665\n",
    "\n",
    "m1 = pendulum_params[\"m1\"]\n",
    "m2 = pendulum_params[\"m2\"]\n",
    "\n",
    "l1 = pendulum_params[\"l1\"]\n",
    "l2 = pendulum_params[\"l2\"]\n",
    "\n",
    "L1 = pendulum_params[\"L1\"]\n",
    "L2 = pendulum_params[\"L2\"]\n",
    "\n",
    "J1 = pendulum_params[\"J1\"]\n",
    "J2 = pendulum_params[\"J2\"]\n",
    "\n",
    "b1 = pendulum_params[\"b1\"]\n",
    "b2 = pendulum_params[\"b2\"]\n",
    "\n",
    "J2_hat = J2 + m2 * l2 * l2\n",
    "J0_hat = J1 + m1 * l1 * l1 + m2 * L1 * L1"
   ]
  },
  {
   "attachments": {},
   "cell_type": "markdown",
   "metadata": {},
   "source": [
    "## LQR"
   ]
  },
  {
   "attachments": {},
   "cell_type": "markdown",
   "metadata": {},
   "source": [
    "### Linearized Furuta pendulum"
   ]
  },
  {
   "cell_type": "code",
   "execution_count": null,
   "metadata": {},
   "outputs": [
    {
     "ename": "",
     "evalue": "",
     "output_type": "error",
     "traceback": [
      "\u001b[1;31mThe kernel failed to start due to the missing module 'psutil'. Consider installing this module.\n",
      "\u001b[1;31mClick <a href='https://aka.ms/kernelFailuresMissingModule'>here</a> for more info."
     ]
    }
   ],
   "source": [
    "import numpy as np\n",
    "\n",
    "# Linearized furuta pendulum from\n",
    "# https://www.hindawi.com/journals/jcse/2011/528341/\n",
    "\n",
    "denominator = J0_hat * J2_hat - (m2**2.0) * (L1**2.0) * (l2**2.0)\n",
    "\n",
    "A32 = (g * (m2**2.0) * (l2**2.0) * L1) / denominator\n",
    "A33 = (-b1 * J2_hat) / denominator\n",
    "A34 = (-b2 * m2 * l2 * L1) / denominator\n",
    "\n",
    "A42 = (g * m2 * l2 * J0_hat) / denominator\n",
    "A43 = (-b1 * m2 * l2 * L1) / denominator\n",
    "A44 = (-b2 * J0_hat) / denominator\n",
    "\n",
    "B31 = (J2_hat) / denominator\n",
    "B41 = (m2 * L1 * l2) / denominator\n",
    "B32 = (m2 * L1 * l2) / denominator\n",
    "B42 = (J0_hat) / denominator\n",
    "\n",
    "A = np.array([[0, 0, 1, 0], [0, 0, 0, 1], [0, A32, A33, A34], [0, A42, A43, A44]])\n",
    "B = np.array([[0], [0], [B31], [B41]])\n",
    "# B32 and B42 not used, as I assumed no disturbance (tau2 = 0)\n",
    "\n",
    "print(A, B)"
   ]
  },
  {
   "attachments": {},
   "cell_type": "markdown",
   "metadata": {},
   "source": [
    "### Q and R weights"
   ]
  },
  {
   "cell_type": "code",
   "execution_count": null,
   "metadata": {},
   "outputs": [
    {
     "ename": "",
     "evalue": "",
     "output_type": "error",
     "traceback": [
      "\u001b[1;31mThe kernel failed to start due to the missing module 'psutil'. Consider installing this module.\n",
      "\u001b[1;31mClick <a href='https://aka.ms/kernelFailuresMissingModule'>here</a> for more info."
     ]
    }
   ],
   "source": [
    "theta1_weight = 0.0\n",
    "theta2_weight = 10.0\n",
    "dtheta1_weight = 1.0\n",
    "dtheta2_weight = 1.0\n",
    "u_weight = 1.0\n",
    "\n",
    "Q = np.array(\n",
    "    [\n",
    "        [theta1_weight, 0, 0, 0],\n",
    "        [0, theta2_weight, 0, 0],\n",
    "        [0, 0, dtheta1_weight, 0],\n",
    "        [0, 0, 0, dtheta2_weight],\n",
    "    ]\n",
    ")\n",
    "R = np.array([u_weight])"
   ]
  },
  {
   "attachments": {},
   "cell_type": "markdown",
   "metadata": {},
   "source": [
    "### Calculate K"
   ]
  },
  {
   "cell_type": "code",
   "execution_count": null,
   "metadata": {},
   "outputs": [
    {
     "ename": "",
     "evalue": "",
     "output_type": "error",
     "traceback": [
      "\u001b[1;31mThe kernel failed to start due to the missing module 'psutil'. Consider installing this module.\n",
      "\u001b[1;31mClick <a href='https://aka.ms/kernelFailuresMissingModule'>here</a> for more info."
     ]
    }
   ],
   "source": [
    "from control import lqr\n",
    "\n",
    "K, S, E = lqr(A, B, Q, R)\n",
    "print(f\"{K[0,0]}, {K[0,1]}, {K[0,2]}, {K[0,3]}\")"
   ]
  },
  {
   "attachments": {},
   "cell_type": "markdown",
   "metadata": {},
   "source": [
    "### Save K"
   ]
  },
  {
   "cell_type": "code",
   "execution_count": null,
   "metadata": {},
   "outputs": [
    {
     "ename": "",
     "evalue": "",
     "output_type": "error",
     "traceback": [
      "\u001b[1;31mThe kernel failed to start due to the missing module 'psutil'. Consider installing this module.\n",
      "\u001b[1;31mClick <a href='https://aka.ms/kernelFailuresMissingModule'>here</a> for more info."
     ]
    }
   ],
   "source": [
    "import yaml\n",
    "import os\n",
    "from ament_index_python.packages import get_package_share_directory\n",
    "\n",
    "controller_params_file = os.path.join(\n",
    "    get_package_share_directory(\"furuta_pendulum\"),\n",
    "    \"config\",\n",
    "    \"controller.yaml\",\n",
    ")\n",
    "\n",
    "with open(controller_params_file, \"r\") as file:\n",
    "    controller_params = yaml.safe_load(file)\n",
    "\n",
    "controller_params[\"/**\"][\"ros__parameters\"][\"K\"] = [float(K[0, x]) for x in range(4)]\n",
    "\n",
    "with open(controller_params_file, \"w\") as file:\n",
    "    # default_flow_style=None to get list formatting as [0,1,2] instead of bullet list\n",
    "    yaml.dump(controller_params, file, default_flow_style=None)\n"
   ]
  }
 ],
 "metadata": {
  "kernelspec": {
   "display_name": "Python 3",
   "language": "python",
   "name": "python3"
  },
  "language_info": {
   "codemirror_mode": {
    "name": "ipython",
    "version": 3
   },
   "file_extension": ".py",
   "mimetype": "text/x-python",
   "name": "python",
   "nbconvert_exporter": "python",
   "pygments_lexer": "ipython3",
   "version": "3.10.6"
  },
  "orig_nbformat": 4
 },
 "nbformat": 4,
 "nbformat_minor": 2
}
