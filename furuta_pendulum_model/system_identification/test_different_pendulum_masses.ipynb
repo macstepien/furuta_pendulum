{
    "cells": [
        {
            "cell_type": "code",
            "execution_count": 10,
            "metadata": {},
            "outputs": [],
            "source": [
                "# Before\n",
                "m2_orig = 0.004136\n",
                "l2_orig = 0.0605\n",
                "L2_orig = 0.121\n",
                "J2_orig = 0.000005132445\n",
                "\n",
                "\n",
                "# After\n",
                "m2_M5 = 0.009801\n",
                "l2_M5 = 0.096608\n",
                "L2_M5 = 0.129\n",
                "J2_M5 = 0.000014790595\n"
            ]
        },
        {
            "cell_type": "code",
            "execution_count": 11,
            "metadata": {},
            "outputs": [
                {
                    "data": {
                        "text/plain": [
                            "0.09546913580246913"
                        ]
                    },
                    "execution_count": 11,
                    "metadata": {},
                    "output_type": "execute_result"
                }
            ],
            "source": [
                "J2_arm = 1.0 / 12.0 * m2_orig * L2_orig * L2_orig\n",
                "m_weight = m2_M5 - m2_orig\n",
                "(m2_orig * l2_orig + m_weight * L2_orig) / (m2_orig + m_weight)\n"
            ]
        },
        {
            "cell_type": "code",
            "execution_count": 12,
            "metadata": {},
            "outputs": [
                {
                    "name": "stdout",
                    "output_type": "stream",
                    "text": [
                        "0.019801000000000003 0.10836286046159284 0.129 0.00023439752966666669\n"
                    ]
                }
            ],
            "source": [
                "# New\n",
                "m_additional_weight = 0.01\n",
                "\n",
                "m_new_weight = m_weight + m_additional_weight\n",
                "\n",
                "m2_new = m2_orig + m_new_weight\n",
                "l2_new = (m2_orig * l2_orig + m_new_weight * L2_orig) / (m2_orig + m_new_weight)\n",
                "L2_new = 0.129\n",
                "J2_new = 1.0 / 12.0 * m2_orig * L2_orig * L2_orig + m_new_weight * L2_orig * L2_orig\n",
                "\n",
                "print(m2_new, l2_new, L2_new, J2_new)\n"
            ]
        },
        {
            "cell_type": "code",
            "execution_count": 13,
            "metadata": {},
            "outputs": [
                {
                    "name": "stdout",
                    "output_type": "stream",
                    "text": [
                        "0.005665000000000001\n",
                        "8.294126500000002e-05\n",
                        "9.65815e-06\n",
                        "5.0462646666666656e-06\n",
                        "5.132445e-06\n",
                        "1.5138793999999997e-05\n"
                    ]
                }
            ],
            "source": [
                "m_weight = m2_M5 - m2_orig\n",
                "print(m_weight)\n",
                "\n",
                "print(m_weight * L2_orig * L2_orig)\n",
                "print(J2_M5 - J2_orig)\n",
                "print(1.0 / 12.0 * m2_orig * L2_orig * L2_orig)\n",
                "print(J2_orig)\n",
                "print(m2_orig * l2_orig * l2_orig)\n"
            ]
        }
    ],
    "metadata": {
        "kernelspec": {
            "display_name": "Python 3",
            "language": "python",
            "name": "python3"
        },
        "language_info": {
            "codemirror_mode": {
                "name": "ipython",
                "version": 3
            },
            "file_extension": ".py",
            "mimetype": "text/x-python",
            "name": "python",
            "nbconvert_exporter": "python",
            "pygments_lexer": "ipython3",
            "version": "3.10.6"
        },
        "orig_nbformat": 4
    },
    "nbformat": 4,
    "nbformat_minor": 2
}
