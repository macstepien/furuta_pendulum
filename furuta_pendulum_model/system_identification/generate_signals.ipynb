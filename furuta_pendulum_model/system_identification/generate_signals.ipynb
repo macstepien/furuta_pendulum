{
    "cells": [
        {
            "cell_type": "code",
            "execution_count": 2,
            "metadata": {},
            "outputs": [],
            "source": [
                "import rclpy\n",
                "from std_msgs.msg import Float64MultiArray\n",
                "import time\n",
                "\n",
                "rclpy.init()"
            ]
        },
        {
            "cell_type": "code",
            "execution_count": 5,
            "metadata": {},
            "outputs": [],
            "source": [
                "node = rclpy.create_node(\"signal_generator\")\n",
                "pub = node.create_publisher(Float64MultiArray, \"/effort_control\", 10)\n",
                "\n",
                "signals = [0.1, -0.1, 0.2, -0.2, 0.3, -0.3, 0.0]\n",
                "for s in signals:\n",
                "    msg = Float64MultiArray()\n",
                "    msg.data.append(s)\n",
                "    pub.publish(msg)\n",
                "    rclpy.spin_once(node, timeout_sec=2.0)"
            ]
        },
        {
            "cell_type": "code",
            "execution_count": null,
            "metadata": {},
            "outputs": [],
            "source": [
                "rclpy.shutdown()"
            ]
        }
    ],
    "metadata": {
        "kernelspec": {
            "display_name": "Python 3",
            "language": "python",
            "name": "python3"
        },
        "language_info": {
            "codemirror_mode": {
                "name": "ipython",
                "version": 3
            },
            "file_extension": ".py",
            "mimetype": "text/x-python",
            "name": "python",
            "nbconvert_exporter": "python",
            "pygments_lexer": "ipython3",
            "version": "3.10.6"
        },
        "orig_nbformat": 4
    },
    "nbformat": 4,
    "nbformat_minor": 2
}
